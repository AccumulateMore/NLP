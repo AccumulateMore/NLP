{
 "cells": [
  {
   "cell_type": "markdown",
   "metadata": {},
   "source": [
    "# 1. dataset"
   ]
  },
  {
   "cell_type": "markdown",
   "metadata": {},
   "source": [
    "## 1.1 dataset1"
   ]
  },
  {
   "cell_type": "code",
   "execution_count": 1,
   "metadata": {},
   "outputs": [
    {
     "name": "stdout",
     "output_type": "stream",
     "text": [
      "[6, 7, 5, 3, 2, 4, 1]\n",
      "[6, 7]\n",
      "[5, 3]\n",
      "[2, 4]\n",
      "[1]\n",
      "[7, 1, 6, 5, 3, 2, 4]\n",
      "[7, 1]\n",
      "[6, 5]\n",
      "[3, 2]\n",
      "[4]\n"
     ]
    }
   ],
   "source": [
    "import random\n",
    "list1 = [1,2,3,4,5,6,7] # 所有的数据,代表dataset\n",
    "batch_size = 2        # 从所有的数据中每次拿多少个，代表dataloader     \n",
    "epoch = 2            # 轮次\n",
    "shuffle = True\n",
    "\n",
    "for e in range(epoch):\n",
    "    if shuffle:\n",
    "        random.shuffle(list1)\n",
    "        print(list1)\n",
    "    for i in range(0,len(list1),batch_size):\n",
    "        batch_data = list1[i:i+batch_size]\n",
    "        print(batch_data)"
   ]
  },
  {
   "cell_type": "markdown",
   "metadata": {},
   "source": [
    "## 1.2 daraset2"
   ]
  },
  {
   "cell_type": "code",
   "execution_count": 2,
   "metadata": {},
   "outputs": [
    {
     "name": "stdout",
     "output_type": "stream",
     "text": [
      "hello __iter__\n",
      "hello __next__\n",
      "[3, 6]\n",
      "hello __next__\n",
      "[1, 7]\n",
      "hello __next__\n",
      "[4, 5]\n",
      "hello __next__\n",
      "[2]\n",
      "hello __next__\n",
      "hello __iter__\n",
      "hello __next__\n",
      "[5, 6]\n",
      "hello __next__\n",
      "[2, 7]\n",
      "hello __next__\n",
      "[4, 3]\n",
      "hello __next__\n",
      "[1]\n",
      "hello __next__\n"
     ]
    }
   ],
   "source": [
    "import random\n",
    "class MyDataset:\n",
    "    def __init__(self,all_datas,batch_size,shuffle=True):\n",
    "        self.all_datas = all_datas\n",
    "        self.batch_size = batch_size\n",
    "        self.shuffle = shuffle\n",
    "        self.cursor = 0\n",
    "\n",
    "    # Python魔术方法，某种场景自动触发的方法\n",
    "    def __iter__(self):  # 返回一个具有__next__的对象\n",
    "        print(\"hello __iter__\")\n",
    "        if self.shuffle:\n",
    "            random.shuffle(self.all_datas)\n",
    "        self.cursor = 0\n",
    "        return self\n",
    "        \n",
    "    def __next__(self):\n",
    "        print(\"hello __next__\")\n",
    "        if self.cursor >= len(self.all_datas):\n",
    "            raise StopIteration\n",
    "            \n",
    "        batch_data = self.all_datas[self.cursor:self.cursor+self.batch_size]\n",
    "        self.cursor += self.batch_size\n",
    "        return batch_data       \n",
    "    \n",
    "if __name__ == \"__main__\":\n",
    "    all_datas = [1,2,3,4,5,6,7]\n",
    "    batch_size = 2\n",
    "    shuffle = True\n",
    "    epoch = 2\n",
    "    \n",
    "    dataset = MyDataset(all_datas,batch_size,shuffle)\n",
    "    \n",
    "    for e in range(epoch):\n",
    "        for batch_data in dataset: # 把一个对象放在for上时，第一次会自动调用这个对象的__iter__\n",
    "            print(batch_data)"
   ]
  },
  {
   "cell_type": "markdown",
   "metadata": {},
   "source": [
    "## 1.3 dataloader"
   ]
  },
  {
   "cell_type": "code",
   "execution_count": 3,
   "metadata": {},
   "outputs": [
    {
     "name": "stdout",
     "output_type": "stream",
     "text": [
      "hello MyDataset __init__\n",
      "=====M=====\n",
      "hello MyDataset __iter__\n",
      "hello DataLoader __init__\n",
      "hello MyDataset __len__\n",
      "hello DataLoader __next__\n",
      "[3 1]\n",
      "hello DataLoader __next__\n",
      "[4 2]\n",
      "hello DataLoader __next__\n",
      "[6 5]\n",
      "hello DataLoader __next__\n",
      "[7]\n",
      "hello DataLoader __next__\n",
      "hello MyDataset __iter__\n",
      "hello DataLoader __init__\n",
      "hello MyDataset __len__\n",
      "hello DataLoader __next__\n",
      "[7 4]\n",
      "hello DataLoader __next__\n",
      "[2 1]\n",
      "hello DataLoader __next__\n",
      "[3 5]\n",
      "hello DataLoader __next__\n",
      "[6]\n",
      "hello DataLoader __next__\n",
      "hello MyDataset __iter__\n",
      "hello DataLoader __init__\n",
      "hello MyDataset __len__\n",
      "hello DataLoader __next__\n",
      "[3 7]\n",
      "hello DataLoader __next__\n",
      "[6 1]\n",
      "hello DataLoader __next__\n",
      "[2 5]\n",
      "hello DataLoader __next__\n",
      "[4]\n",
      "hello DataLoader __next__\n"
     ]
    }
   ],
   "source": [
    "import random\n",
    "import numpy as np\n",
    "class MyDataset:\n",
    "    def __init__(self,all_datas,batch_size,shuffle=True):\n",
    "        print(\"hello MyDataset __init__\")\n",
    "        self.all_datas = all_datas\n",
    "        self.batch_size = batch_size\n",
    "        self.shuffle = shuffle\n",
    "    \n",
    "    def __iter__(self):\n",
    "        print(\"hello MyDataset __iter__\")\n",
    "        if self.shuffle:\n",
    "            random.shuffle(self.all_datas)\n",
    "        return DataLoader(self) # self 本身就是一个Dataset，self传进来后就拥有里面的所有数据了\n",
    "    \n",
    "    def __len__(self):\n",
    "        print(\"hello MyDataset __len__\")\n",
    "        return len(self.all_datas)\n",
    "    \n",
    "class DataLoader:\n",
    "    def __init__(self,dataset):  \n",
    "        print(\"hello DataLoader __init__\")\n",
    "        self.dataset = dataset\n",
    "        self.indexs = [i for i in range(len(self.dataset))]\n",
    "        if self.dataset.shuffle == True:\n",
    "            np.random.shuffle(self.indexs)\n",
    "        self.cursor = 0\n",
    "        \n",
    "    def __next__(self):\n",
    "        print(\"hello DataLoader __next__\")\n",
    "        if self.cursor >= len(self.dataset.all_datas):  # 也可用 >= len(self.dataset))\n",
    "            raise StopIteration\n",
    "        index = self.indexs[self.cursor:self.cursor + self.dataset.batch_size]\n",
    "        batch_data = self.dataset.all_datas[index]   \n",
    "        self.cursor += self.dataset.batch_size\n",
    "        return batch_data\n",
    "    \n",
    "if __name__ == \"__main__\":\n",
    "    all_datas = np.array([1,2,3,4,5,6,7])\n",
    "    batch_size = 2\n",
    "    shuffle = True\n",
    "    epoch = 3\n",
    "    \n",
    "    dataset = MyDataset(all_datas,batch_size,shuffle)\n",
    "    print(\"=====M=====\")\n",
    "    for e in range(epoch):\n",
    "        for batch_data in dataset: # 把一个对象放在for上时，第一次会自动调用这个对象的__iter__\n",
    "            print(batch_data)"
   ]
  },
  {
   "cell_type": "code",
   "execution_count": null,
   "metadata": {},
   "outputs": [],
   "source": []
  }
 ],
 "metadata": {
  "kernelspec": {
   "display_name": "Python 3",
   "language": "python",
   "name": "python3"
  },
  "language_info": {
   "codemirror_mode": {
    "name": "ipython",
    "version": 3
   },
   "file_extension": ".py",
   "mimetype": "text/x-python",
   "name": "python",
   "nbconvert_exporter": "python",
   "pygments_lexer": "ipython3",
   "version": "3.7.4"
  },
  "toc": {
   "base_numbering": 1,
   "nav_menu": {},
   "number_sections": false,
   "sideBar": true,
   "skip_h1_title": false,
   "title_cell": "Table of Contents",
   "title_sidebar": "Contents",
   "toc_cell": false,
   "toc_position": {
    "height": "calc(100% - 180px)",
    "left": "10px",
    "top": "150px",
    "width": "357.344px"
   },
   "toc_section_display": true,
   "toc_window_display": true
  }
 },
 "nbformat": 4,
 "nbformat_minor": 4
}
