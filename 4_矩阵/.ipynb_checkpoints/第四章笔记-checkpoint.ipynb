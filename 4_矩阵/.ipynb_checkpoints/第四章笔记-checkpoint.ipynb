{
 "cells": [
  {
   "cell_type": "markdown",
   "metadata": {},
   "source": [
    "# 4. 矩阵运算"
   ]
  },
  {
   "cell_type": "markdown",
   "metadata": {},
   "source": [
    "#### 矩阵求导\n",
    "1. 考虑矩阵乘法 $$ A \\cdot B = C $$\n",
    "2. 考虑Loss函数 $$ L = \\sum^m_{i}\\sum^n_{j}{(C_{ij} - p)^2} $$\n",
    "3. 考虑C的每一项导数 $$ \\triangledown C_{ij} = \\frac{\\partial L}{\\partial C_{ij}} $$\n",
    "4. 考虑ABC都为2x2矩阵时，定义G为L对C的导数\n",
    "$$A = \\begin{bmatrix}\n",
    "a & b\\\\\n",
    "c & d\n",
    "\\end{bmatrix}\n",
    "\\quad\n",
    "B = \n",
    "\\begin{bmatrix} \n",
    "e & f \\\\\n",
    "g & h\n",
    "\\end{bmatrix}\n",
    "\\quad\n",
    "C = \\begin{bmatrix} \n",
    "i & j \\\\\n",
    "k & l \n",
    "\\end{bmatrix}\n",
    "\\quad\n",
    "G = \\frac{\\partial L}{\\partial C} = \\begin{bmatrix} \n",
    "\\frac{\\partial L}{\\partial i} & \\frac{\\partial L}{\\partial j} \\\\\n",
    "\\frac{\\partial L}{\\partial k} & \\frac{\\partial L}{\\partial l} \n",
    "\\end{bmatrix} = \\begin{bmatrix} \n",
    "w & x \\\\\n",
    "y & z \n",
    "\\end{bmatrix}\n",
    "$$\n",
    "\n",
    "5. 展开左边 A x B\n",
    "$$C = \\begin{bmatrix}\n",
    "i = ae + bg & j = af + bh\\\\\n",
    "k = ce + dg & l = cf + dh\n",
    "\\end{bmatrix}\n",
    "$$"
   ]
  },
  {
   "cell_type": "markdown",
   "metadata": {},
   "source": [
    "6. L对于每一个A的导数$$ \\triangledown A_{ij} = \\frac{\\partial L}{\\partial A_{ij}} $$"
   ]
  },
  {
   "cell_type": "markdown",
   "metadata": {},
   "source": [
    "$$ \\frac{\\partial L}{\\partial a} = \\frac{\\partial L}{\\partial i} * \\frac{\\partial i}{\\partial a} + \\frac{\\partial L}{\\partial j} * \\frac{\\partial j}{\\partial a} $$\n",
    "\n",
    "$$ \\frac{\\partial L}{\\partial b} = \\frac{\\partial L}{\\partial i} * \\frac{\\partial i}{\\partial b} + \\frac{\\partial L}{\\partial j} * \\frac{\\partial j}{\\partial b} $$\n",
    "\n",
    "$$ \\frac{\\partial L}{\\partial c} = \\frac{\\partial L}{\\partial k} * \\frac{\\partial k}{\\partial c} + \\frac{\\partial L}{\\partial l} * \\frac{\\partial l}{\\partial c} $$\n",
    "\n",
    "$$ \\frac{\\partial L}{\\partial d} = \\frac{\\partial L}{\\partial k} * \\frac{\\partial k}{\\partial d} + \\frac{\\partial L}{\\partial l} * \\frac{\\partial l}{\\partial d} $$"
   ]
  },
  {
   "cell_type": "markdown",
   "metadata": {},
   "source": [
    "$$ \\frac{\\partial L}{\\partial a} = we + xf \\\\ $$\n",
    "$$ \\frac{\\partial L}{\\partial b} = wg + xh \\\\ $$\n",
    "$$ \\frac{\\partial L}{\\partial c} = ye + zf \\\\ $$\n",
    "$$ \\frac{\\partial L}{\\partial d} = yg + zh $$"
   ]
  },
  {
   "cell_type": "markdown",
   "metadata": {},
   "source": [
    "7. 因此A的导数为$$ \n",
    "\\triangledown A = \\begin{bmatrix}\n",
    "we + xf & wg + xh\\\\\n",
    "ye + zf & yg + zh\n",
    "\\end{bmatrix}\n",
    "\\quad\n",
    "\\triangledown A = \\begin{bmatrix}\n",
    "w & x\\\\\n",
    "y & z\n",
    "\\end{bmatrix}\n",
    "\\begin{bmatrix}\n",
    "e & g\\\\\n",
    "f & h\n",
    "\\end{bmatrix}\n",
    "$$\n",
    "\n",
    "$$\n",
    "\\triangledown A = G \\cdot B^T\n",
    "$$"
   ]
  },
  {
   "cell_type": "markdown",
   "metadata": {},
   "source": [
    "8. 同理B的导数为:\n",
    "$$ \\frac{\\partial L}{\\partial e} = wa + yc \\\\ $$\n",
    "$$ \\frac{\\partial L}{\\partial f} = xa + zc \\\\ $$\n",
    "$$ \\frac{\\partial L}{\\partial g} = wb + yd \\\\ $$\n",
    "$$ \\frac{\\partial L}{\\partial h} = xb + zd $$"
   ]
  },
  {
   "cell_type": "markdown",
   "metadata": {},
   "source": [
    "$$ \n",
    "\\triangledown A = \\begin{bmatrix}\n",
    "wa + yc & xa + zc\\\\\n",
    "wb + yd & xb + zd\n",
    "\\end{bmatrix}\n",
    "\\quad\n",
    "\\triangledown A = \\begin{bmatrix}\n",
    "a & c\\\\\n",
    "b & d\n",
    "\\end{bmatrix}\n",
    "\\begin{bmatrix}\n",
    "w & x\\\\\n",
    "y & z\n",
    "\\end{bmatrix}\n",
    "$$\n",
    "\n",
    "$$\n",
    "\\triangledown B = A^T \\cdot G\n",
    "$$"
   ]
  },
  {
   "cell_type": "code",
   "execution_count": null,
   "metadata": {},
   "outputs": [
    {
     "name": "stdout",
     "output_type": "stream",
     "text": [
      "请输入卧室数量:3\n",
      "请输入客厅数量:1\n",
      "请输入卫生间数量:1\n",
      "请输入面积:130\n",
      "请输入楼层:11\n",
      "请输入建成年份:2010\n",
      "房价为: [[66476.90245092]]\n"
     ]
    }
   ],
   "source": [
    "import numpy as np\n",
    "import pandas as pd\n",
    "\n",
    "def get_data(file = \"上海二手房价.csv\"):\n",
    "    datas = pd.read_csv(file,names=[\"y\",\"x1\",\"x2\",\"x3\",\"x4\",\"x5\",\"x6\"],skiprows=1)   \n",
    "    y = datas[\"y\"].values.reshape(-1,1) # 只有一列，具体多少行视数据情况自适应而定\n",
    "    #print(\"y:\",y)\n",
    "    #print(\"y[-5:]:\",y[-5:])\n",
    "    X = datas[[f\"x{i}\" for i in range(1,7)]].values\n",
    "    #print(\"x:\",x)\n",
    "    #print(\"len(x):\",len(x))\n",
    "    #print(\"x[0]:\",x[0])\n",
    "    \n",
    "    # z_score: (x - mean_x) / std  对x进行归一化操作\n",
    "    mean_y = np.mean(y)\n",
    "    #print(\"mean_y:\",mean_y)\n",
    "    #print(\"len(mean_y):\",len(mean_y))\n",
    "    std_y = np.std(y)\n",
    "    \n",
    "    mean_X = np.mean(X,axis =0,keepdims = True) # axis=0，那么输出矩阵是1行，求每一列的平均\n",
    "    std_X = np.std(X,axis=0,keepdims = True)\n",
    "    \n",
    "    y = (y-mean_y) / std_y\n",
    "    X = (X-mean_X) / std_X\n",
    "    \n",
    "    return X,y,mean_y,std_y,mean_X,std_X   \n",
    "\n",
    "if __name__ == \"__main__\":\n",
    "    X,y,mean_y,std_y,mean_X,std_X = get_data()\n",
    "    K = np.random.random((6,1))\n",
    "    \n",
    "    epoch = 1000\n",
    "    lr = 0.1\n",
    "    b = 0\n",
    "    \n",
    "    for e in range(epoch):\n",
    "        pre = X @ K + b  # 在某些应用场景的需求情况，有 b 的函数比没 b 的函数要好\n",
    "        loss = np.sum((pre - y)**2)/len(X) # 对 loss 取平均值\n",
    "        # G = (2*(pre - y))\n",
    "        G = (pre - y)/len(X) # loss 对 pre 的导数,梯度的常数项一般都不要\n",
    "                             # G为一串列表，G与X.T相乘再相加，G太大可以导致delta_K梯度爆炸\n",
    "                             # 为了不与多少条数据相关，即不让数据多就大，数据少就小，所以G除以量纲\n",
    "        #print(\"G:\",G)\n",
    "        #print(\"len(G):\",len(G))\n",
    "        delta_K = X.T @ G  \n",
    "        #print(\"delta_K:\",delta_K)\n",
    "        delta_b = np.mean(G)\n",
    "        \n",
    "        K = K - lr * delta_K\n",
    "        b = b - lr * delta_b\n",
    "        \n",
    "        #print(f\"loss:{loss:.3f}\")\n",
    "        \n",
    "    while True:\n",
    "        bedroom = (int(input(\"请输入卧室数量:\")))\n",
    "        ting = (int(input(\"请输入客厅数量:\")))\n",
    "        wei = (int(input(\"请输入卫生间数量:\")))\n",
    "        area = (int(input(\"请输入面积:\")))\n",
    "        floor = (int(input(\"请输入楼层:\")))\n",
    "        year = (int(input(\"请输入建成年份:\")))\n",
    "        test_x = (np.array([bedroom,ting,wei,area,floor,year]).reshape(1,-1)- mean_X) / std_X  # 训练后的k、b对应的输入是归一化后的X       \n",
    "        p = test_x @ K + b\n",
    "        print(\"房价为:\", p * std_y + mean_y) # 训练后的k、b对应的输出是归一化后的Y,因此真实输出要返归一化                    "
   ]
  },
  {
   "cell_type": "code",
   "execution_count": null,
   "metadata": {},
   "outputs": [],
   "source": []
  }
 ],
 "metadata": {
  "kernelspec": {
   "display_name": "Python 3",
   "language": "python",
   "name": "python3"
  },
  "language_info": {
   "codemirror_mode": {
    "name": "ipython",
    "version": 3
   },
   "file_extension": ".py",
   "mimetype": "text/x-python",
   "name": "python",
   "nbconvert_exporter": "python",
   "pygments_lexer": "ipython3",
   "version": "3.7.4"
  },
  "toc": {
   "base_numbering": 1,
   "nav_menu": {},
   "number_sections": false,
   "sideBar": true,
   "skip_h1_title": false,
   "title_cell": "Table of Contents",
   "title_sidebar": "Contents",
   "toc_cell": false,
   "toc_position": {
    "height": "calc(100% - 180px)",
    "left": "10px",
    "top": "150px",
    "width": "357.344px"
   },
   "toc_section_display": true,
   "toc_window_display": true
  }
 },
 "nbformat": 4,
 "nbformat_minor": 4
}
